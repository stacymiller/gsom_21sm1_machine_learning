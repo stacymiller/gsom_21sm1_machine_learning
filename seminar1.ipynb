{
 "cells": [
  {
   "cell_type": "code",
   "execution_count": 1,
   "id": "infinite-concept",
   "metadata": {},
   "outputs": [],
   "source": [
    "import numpy as np\n",
    "import pandas as pd"
   ]
  },
  {
   "cell_type": "code",
   "execution_count": 2,
   "id": "equivalent-travel",
   "metadata": {},
   "outputs": [],
   "source": [
    "dataset_location = 'https://data.gov.ru/opendata/7708234640-hdfu-1152110030001-2013-1-8-3-1/data-20130704T1250-structure-20130704T1250.csv?encoding=UTF-8'"
   ]
  },
  {
   "cell_type": "code",
   "execution_count": 3,
   "id": "happy-teddy",
   "metadata": {},
   "outputs": [
    {
     "data": {
      "text/html": [
       "<div>\n",
       "<style scoped>\n",
       "    .dataframe tbody tr th:only-of-type {\n",
       "        vertical-align: middle;\n",
       "    }\n",
       "\n",
       "    .dataframe tbody tr th {\n",
       "        vertical-align: top;\n",
       "    }\n",
       "\n",
       "    .dataframe thead th {\n",
       "        text-align: right;\n",
       "    }\n",
       "</style>\n",
       "<table border=\"1\" class=\"dataframe\">\n",
       "  <thead>\n",
       "    <tr style=\"text-align: right;\">\n",
       "      <th></th>\n",
       "      <th>okato_name</th>\n",
       "      <th>okato</th>\n",
       "      <th>monthnum</th>\n",
       "      <th>yearnum</th>\n",
       "      <th>measure</th>\n",
       "      <th>value</th>\n",
       "    </tr>\n",
       "  </thead>\n",
       "  <tbody>\n",
       "    <tr>\n",
       "      <th>27</th>\n",
       "      <td>Тюменская область</td>\n",
       "      <td>71000000000</td>\n",
       "      <td>1</td>\n",
       "      <td>2013</td>\n",
       "      <td>процент</td>\n",
       "      <td>111.22</td>\n",
       "    </tr>\n",
       "    <tr>\n",
       "      <th>5</th>\n",
       "      <td>Астраханская область</td>\n",
       "      <td>12000000000</td>\n",
       "      <td>1</td>\n",
       "      <td>2013</td>\n",
       "      <td>процент</td>\n",
       "      <td>124.20</td>\n",
       "    </tr>\n",
       "    <tr>\n",
       "      <th>56</th>\n",
       "      <td>Тверская область</td>\n",
       "      <td>28000000000</td>\n",
       "      <td>1</td>\n",
       "      <td>2013</td>\n",
       "      <td>процент</td>\n",
       "      <td>116.78</td>\n",
       "    </tr>\n",
       "    <tr>\n",
       "      <th>67</th>\n",
       "      <td>Пермский край</td>\n",
       "      <td>57000000000</td>\n",
       "      <td>1</td>\n",
       "      <td>2013</td>\n",
       "      <td>процент</td>\n",
       "      <td>118.71</td>\n",
       "    </tr>\n",
       "    <tr>\n",
       "      <th>14</th>\n",
       "      <td>Курганская область</td>\n",
       "      <td>37000000000</td>\n",
       "      <td>1</td>\n",
       "      <td>2013</td>\n",
       "      <td>процент</td>\n",
       "      <td>115.98</td>\n",
       "    </tr>\n",
       "  </tbody>\n",
       "</table>\n",
       "</div>"
      ],
      "text/plain": [
       "              okato_name        okato  monthnum  yearnum  measure   value\n",
       "27     Тюменская область  71000000000         1     2013  процент  111.22\n",
       "5   Астраханская область  12000000000         1     2013  процент  124.20\n",
       "56      Тверская область  28000000000         1     2013  процент  116.78\n",
       "67         Пермский край  57000000000         1     2013  процент  118.71\n",
       "14    Курганская область  37000000000         1     2013  процент  115.98"
      ]
     },
     "execution_count": 3,
     "metadata": {},
     "output_type": "execute_result"
    }
   ],
   "source": [
    "df = pd.read_csv(dataset_location)\n",
    "df.sample(5)"
   ]
  },
  {
   "cell_type": "code",
   "execution_count": null,
   "id": "canadian-granny",
   "metadata": {},
   "outputs": [],
   "source": []
  }
 ],
 "metadata": {
  "kernelspec": {
   "display_name": "Python 3",
   "language": "python",
   "name": "python3"
  },
  "language_info": {
   "codemirror_mode": {
    "name": "ipython",
    "version": 3
   },
   "file_extension": ".py",
   "mimetype": "text/x-python",
   "name": "python",
   "nbconvert_exporter": "python",
   "pygments_lexer": "ipython3",
   "version": "3.8.3"
  }
 },
 "nbformat": 4,
 "nbformat_minor": 5
}
